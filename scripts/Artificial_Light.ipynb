{
  "nbformat": 4,
  "nbformat_minor": 0,
  "metadata": {
    "colab": {
      "provenance": []
    },
    "kernelspec": {
      "name": "python3",
      "display_name": "Python 3"
    },
    "language_info": {
      "name": "python"
    }
  },
  "cells": [
    {
      "cell_type": "code",
      "execution_count": null,
      "metadata": {
        "id": "DnNDf35JPCI4"
      },
      "outputs": [],
      "source": [
        "def artificial_light(few_sensed_values, artificial_light_threshold):  # few_sensed_values = last 5 sensed values (luminosity)\n",
        "    #\n",
        "    d = 0\n",
        "    changes = np.zeros(len(few_sensed_values))\n",
        "    for i in range(len(few_sensed_values)):\n",
        "\n",
        "        # when there is actually an artificial light exposure\n",
        "        if few_sensed_values[i] > artificial_light_threshold:  # luminosity increases with an artificial light exposure\n",
        "           changes[i] = 1  # \"1\" represents artificial light exposure\n",
        "           d = 1  # when luminosity increases, \"d\" becomes 1\n",
        "\n",
        "        # when there hasn't been an artificial light exposure, but luminosity has been increased for an instance and then reduced\n",
        "        elif (d==1) and (few_sensed_values[i] < artificial_light_threshold):\n",
        "             changes[i] = -1  # presence of \"-1\" in the array \"changes\" means that there hasn't been an artificial light exposure\n",
        "             d = 0\n",
        "\n",
        "    if 1 in changes:\n",
        "      if -1 in changes:\n",
        "        artificial_light_status = 'OFF'\n",
        "      artificial_light_status = 'ON'\n",
        "    else:\n",
        "      artificial_light_status = 'OFF'\n",
        "\n",
        "    return artificial_light_status"
      ]
    }
  ]
}